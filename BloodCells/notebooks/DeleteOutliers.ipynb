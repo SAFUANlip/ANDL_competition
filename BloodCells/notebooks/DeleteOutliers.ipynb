{
  "nbformat": 4,
  "nbformat_minor": 0,
  "metadata": {
    "colab": {
      "provenance": []
    },
    "kernelspec": {
      "name": "python3",
      "display_name": "Python 3"
    },
    "language_info": {
      "name": "python"
    }
  },
  "cells": [
    {
      "cell_type": "markdown",
      "source": [
        "### Import Libraries"
      ],
      "metadata": {
        "id": "FOhWki0R_YNC"
      }
    },
    {
      "cell_type": "code",
      "source": [
        "import numpy as np\n",
        "import cv2\n",
        "import os\n",
        "\n",
        "from matplotlib import pyplot as plt\n",
        "from tqdm import tqdm\n",
        "import pickle"
      ],
      "metadata": {
        "id": "NHXrxG-R_Sbg"
      },
      "execution_count": null,
      "outputs": []
    },
    {
      "cell_type": "code",
      "execution_count": null,
      "metadata": {
        "colab": {
          "base_uri": "https://localhost:8080/"
        },
        "id": "-qC5dBmO-2bs",
        "outputId": "72fb367f-e3eb-4b46-b9c5-43b9d84acdba"
      },
      "outputs": [
        {
          "output_type": "stream",
          "name": "stdout",
          "text": [
            "Mounted at /gdrive\n",
            "/gdrive/My Drive/My[2024-2025] AN2DL/HW1\n"
          ]
        }
      ],
      "source": [
        "from google.colab import drive\n",
        "\n",
        "drive.mount('/gdrive')\n",
        "# write correct path to the folder with training_set.npz\n",
        "%cd '/gdrive/My Drive/My[2024-2025] AN2DL/HW1'"
      ]
    },
    {
      "cell_type": "markdown",
      "source": [
        "### Load Data"
      ],
      "metadata": {
        "id": "wDlF83H8_Kdm"
      }
    },
    {
      "cell_type": "code",
      "source": [
        "data = np.load('training_set.npz')\n",
        "X = data['images']\n",
        "y = data['labels']\n",
        "labels = np.unique(y)"
      ],
      "metadata": {
        "id": "Fla74LdN_Js7"
      },
      "execution_count": null,
      "outputs": []
    },
    {
      "cell_type": "code",
      "source": [
        "print(X.shape, y.shape)\n",
        "print(labels)"
      ],
      "metadata": {
        "colab": {
          "base_uri": "https://localhost:8080/"
        },
        "id": "3Wbb4CAT_bSc",
        "outputId": "e8d16531-02aa-4e8a-bf2f-2bfbb890aac1"
      },
      "execution_count": null,
      "outputs": [
        {
          "output_type": "stream",
          "name": "stdout",
          "text": [
            "(13759, 96, 96, 3) (13759, 1)\n",
            "[0 1 2 3 4 5 6 7]\n"
          ]
        }
      ]
    },
    {
      "cell_type": "markdown",
      "source": [
        "### Delete duplicates"
      ],
      "metadata": {
        "id": "Tfh-1tkN_lzm"
      }
    },
    {
      "cell_type": "markdown",
      "source": [
        "we need to delete duplicated images to make dataset cleaner"
      ],
      "metadata": {
        "id": "akc_FJzyOKx5"
      }
    },
    {
      "cell_type": "code",
      "source": [
        "def dhash(image, hashSize=8):\n",
        "    gray = cv2.cvtColor(image, cv2.COLOR_BGR2GRAY)\n",
        "    resized = cv2.resize(gray, (hashSize + 1, hashSize))\n",
        "    diff = resized[:, 1:] > resized[:, :-1]\n",
        "    return sum([2 ** i for (i, v) in enumerate(diff.flatten()) if v])"
      ],
      "metadata": {
        "id": "neGEE5iiAuAe"
      },
      "execution_count": null,
      "outputs": []
    },
    {
      "cell_type": "code",
      "source": [
        "def delete_dupl(hashes, X, y, remove = 1):\n",
        "    to_del = []\n",
        "    for (h, hashes_idx) in hashes.items():\n",
        "        if len(hashes_idx) > 1:\n",
        "            print(f\"this hash has {len(hashes_idx)} repetitions\")\n",
        "            for p in hashes_idx[0:]:\n",
        "                to_del.append(p)\n",
        "\n",
        "    print(f'we need to delete {len(to_del)} images')\n",
        "    return to_del"
      ],
      "metadata": {
        "id": "32ZruZKQAv1p"
      },
      "execution_count": null,
      "outputs": []
    },
    {
      "cell_type": "code",
      "source": [
        "def count_hashes(X):\n",
        "    hashes = {}\n",
        "    for idx, el in tqdm(enumerate(X)):\n",
        "        image = el\n",
        "        h = dhash(image)\n",
        "        p = hashes.get(h, [])\n",
        "        p.append(idx)\n",
        "        hashes[h] = p\n",
        "    return hashes"
      ],
      "metadata": {
        "id": "ZsItWewAA87K"
      },
      "execution_count": null,
      "outputs": []
    },
    {
      "cell_type": "code",
      "source": [
        "hashes = count_hashes(X)\n",
        "to_del = delete_dupl(hashes, X, y, remove = 0)"
      ],
      "metadata": {
        "colab": {
          "base_uri": "https://localhost:8080/"
        },
        "id": "FmWXizWnAg-m",
        "outputId": "2a459517-d12b-48c9-a682-2b157fa421cd"
      },
      "execution_count": null,
      "outputs": [
        {
          "output_type": "stream",
          "name": "stderr",
          "text": [
            "13759it [00:00, 27599.50it/s]"
          ]
        },
        {
          "output_type": "stream",
          "name": "stdout",
          "text": [
            "this hash has 2 repetitions\n",
            "this hash has 2 repetitions\n",
            "this hash has 2 repetitions\n",
            "this hash has 2 repetitions\n",
            "this hash has 2 repetitions\n",
            "this hash has 2 repetitions\n",
            "this hash has 2 repetitions\n",
            "this hash has 2 repetitions\n",
            "this hash has 1600 repetitions\n",
            "this hash has 200 repetitions\n",
            "we need to delete 1816 images\n"
          ]
        },
        {
          "output_type": "stream",
          "name": "stderr",
          "text": [
            "\n"
          ]
        }
      ]
    },
    {
      "cell_type": "code",
      "source": [
        "to_del.sort()\n",
        "to_del[:5]"
      ],
      "metadata": {
        "colab": {
          "base_uri": "https://localhost:8080/"
        },
        "id": "oSdJFGYqC9TA",
        "outputId": "2d5c7277-069c-4cd0-93e0-6e3feef9437a"
      },
      "execution_count": null,
      "outputs": [
        {
          "output_type": "execute_result",
          "data": {
            "text/plain": [
              "[120, 810, 1074, 3052, 3328]"
            ]
          },
          "metadata": {},
          "execution_count": 58
        }
      ]
    },
    {
      "cell_type": "code",
      "source": [
        "plt.imshow(X[to_del[-10]])"
      ],
      "metadata": {
        "colab": {
          "base_uri": "https://localhost:8080/",
          "height": 451
        },
        "id": "jTREhVt3Bfrn",
        "outputId": "eaf17259-37c9-4b7b-a1a0-bad0a035d81a"
      },
      "execution_count": null,
      "outputs": [
        {
          "output_type": "execute_result",
          "data": {
            "text/plain": [
              "<matplotlib.image.AxesImage at 0x7936cac3f850>"
            ]
          },
          "metadata": {},
          "execution_count": 35
        },
        {
          "output_type": "display_data",
          "data": {
            "text/plain": [
              "<Figure size 640x480 with 1 Axes>"
            ],
            "image/png": "[encoded data removed]"
          },
          "metadata": {}
        }
      ]
    },
    {
      "cell_type": "code",
      "source": [
        "new_X = np.delete(X, to_del, axis = 0)\n",
        "new_y = np.delete(y, to_del, axis = 0)"
      ],
      "metadata": {
        "id": "rQZfSWJDCAUI"
      },
      "execution_count": null,
      "outputs": []
    },
    {
      "cell_type": "code",
      "source": [
        "print(X.shape, y.shape)\n",
        "print(new_X.shape, new_y.shape)"
      ],
      "metadata": {
        "colab": {
          "base_uri": "https://localhost:8080/"
        },
        "id": "OFm1tDitBoRm",
        "outputId": "def7c147-4792-4ff3-9999-eb2dbcf87daf"
      },
      "execution_count": null,
      "outputs": [
        {
          "output_type": "stream",
          "name": "stdout",
          "text": [
            "(13759, 96, 96, 3) (13759, 1)\n",
            "(11943, 96, 96, 3) (11943, 1)\n"
          ]
        }
      ]
    },
    {
      "cell_type": "markdown",
      "source": [
        "### Save new data without outliers"
      ],
      "metadata": {
        "id": "WvI_FPZyDsHz"
      }
    },
    {
      "cell_type": "code",
      "source": [
        "save_path = \"trainig_set_no_outliers.npz\"\n",
        "np.savez(save_path, images=new_X, labels =new_y)"
      ],
      "metadata": {
        "id": "tLzUlIr6Bh-f"
      },
      "execution_count": null,
      "outputs": []
    }
  ]
}